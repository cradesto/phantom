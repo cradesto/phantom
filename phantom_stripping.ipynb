{
 "cells": [
  {
   "cell_type": "code",
   "execution_count": null,
   "metadata": {},
   "outputs": [],
   "source": [
    "%reset -f\n",
    "# %matplotlib inline\n",
    "%matplotlib widget\n",
    "\n",
    "import os\n",
    "import sys\n",
    "import re\n",
    "import glob\n",
    "\n",
    "from pylab import *\n",
    "import numpy as np\n",
    "import pandas as pd\n",
    "import matplotlib.pyplot as plt\n",
    "\n",
    "import bqplot.pyplot as bplt\n",
    "import ipywidgets as widgets\n",
    "\n",
    "from IPython.display import HTML\n",
    "\n",
    "# from scipy.signal import savgol_filter\n",
    "\n",
    "import plonk\n",
    "\n",
    "import ipyvolume as ipv\n",
    "\n",
    "import time\n",
    "\n",
    "from IPython.core.interactiveshell import InteractiveShell\n",
    "InteractiveShell.ast_node_interactivity = \"all\""
   ]
  },
  {
   "cell_type": "markdown",
   "metadata": {},
   "source": [
    "# Snapshot"
   ]
  },
  {
   "cell_type": "code",
   "execution_count": null,
   "metadata": {},
   "outputs": [],
   "source": [
    "filename = 'h5_part/binary_00040.h5'\n",
    "snap = plonk.load_snap(filename)"
   ]
  },
  {
   "cell_type": "code",
   "execution_count": null,
   "metadata": {},
   "outputs": [],
   "source": [
    "snap.available_arrays()"
   ]
  },
  {
   "cell_type": "code",
   "execution_count": null,
   "metadata": {},
   "outputs": [],
   "source": [
    "snap['position']"
   ]
  },
  {
   "cell_type": "code",
   "execution_count": null,
   "metadata": {},
   "outputs": [],
   "source": [
    "# snap.loaded_arrays()\n",
    "list(snap.properties)"
   ]
  },
  {
   "cell_type": "code",
   "execution_count": null,
   "metadata": {},
   "outputs": [],
   "source": [
    "snap.properties['time']"
   ]
  },
  {
   "cell_type": "code",
   "execution_count": null,
   "metadata": {},
   "outputs": [],
   "source": [
    "# snap.default_units\n",
    "snap.set_units(time='s', position='km', density='g/cm^3', velocity='km/s')"
   ]
  },
  {
   "cell_type": "code",
   "execution_count": null,
   "metadata": {},
   "outputs": [],
   "source": [
    "snap['x'].max().to('km')"
   ]
  },
  {
   "cell_type": "code",
   "execution_count": null,
   "metadata": {},
   "outputs": [],
   "source": [
    "list(snap._file_pointer['particles'])"
   ]
  },
  {
   "cell_type": "code",
   "execution_count": null,
   "metadata": {},
   "outputs": [],
   "source": [
    "snap['mass'].sum().to('solar_mass')"
   ]
  },
  {
   "cell_type": "code",
   "execution_count": null,
   "metadata": {},
   "outputs": [],
   "source": [
    "snap.image(quantity='gravitational_potential',\n",
    "    cmap='gist_heat',\n",
    "    extent=(-50, 50, -50, 50),\n",
    "    )"
   ]
  },
  {
   "cell_type": "code",
   "execution_count": null,
   "metadata": {},
   "outputs": [],
   "source": [
    "snap['gravitational_potential']"
   ]
  },
  {
   "cell_type": "code",
   "execution_count": null,
   "metadata": {},
   "outputs": [],
   "source": [
    "ax = snap.plot(\n",
    "    x='x',\n",
    "    y='gravitational_potential'\n",
    ")"
   ]
  },
  {
   "cell_type": "markdown",
   "metadata": {},
   "source": [
    "# Time series"
   ]
  },
  {
   "cell_type": "code",
   "execution_count": null,
   "metadata": {},
   "outputs": [],
   "source": [
    "ts = plonk.load_time_series('binary01.ev')\n",
    "ts"
   ]
  },
  {
   "cell_type": "code",
   "execution_count": null,
   "metadata": {},
   "outputs": [],
   "source": [
    "# ts['time']\n",
    "ts.plot('time', ['center_of_mass_x', 'center_of_mass_y', 'center_of_mass_z'])"
   ]
  },
  {
   "cell_type": "code",
   "execution_count": null,
   "metadata": {},
   "outputs": [],
   "source": [
    "ts = plonk.load_time_series('binary_inertia.dat')\n",
    "# ts"
   ]
  },
  {
   "cell_type": "code",
   "execution_count": null,
   "metadata": {},
   "outputs": [],
   "source": [
    "ts.plot('time', ['v1,1'])\n",
    "# ts.plot('time', ['ang v3'])"
   ]
  },
  {
   "cell_type": "markdown",
   "metadata": {},
   "source": [
    "# Ptofiles"
   ]
  },
  {
   "cell_type": "code",
   "execution_count": null,
   "metadata": {},
   "outputs": [],
   "source": [
    "prof = plonk.load_profile(snap)"
   ]
  },
  {
   "cell_type": "code",
   "execution_count": null,
   "metadata": {},
   "outputs": [],
   "source": [
    "prof"
   ]
  },
  {
   "cell_type": "code",
   "execution_count": null,
   "metadata": {},
   "outputs": [],
   "source": [
    "prof.loaded_profiles()"
   ]
  },
  {
   "cell_type": "code",
   "execution_count": null,
   "metadata": {},
   "outputs": [],
   "source": [
    "prof.available_profiles()"
   ]
  },
  {
   "cell_type": "code",
   "execution_count": null,
   "metadata": {},
   "outputs": [],
   "source": [
    "prof['angular_momentum_mag']"
   ]
  },
  {
   "cell_type": "code",
   "execution_count": null,
   "metadata": {},
   "outputs": [],
   "source": [
    "snap.plot(x='x', y='gravitational_potential')\n",
    "prof.plot(x='x', y='gravitational_potential')"
   ]
  },
  {
   "cell_type": "markdown",
   "metadata": {},
   "source": [
    "# Simulations"
   ]
  },
  {
   "cell_type": "code",
   "execution_count": null,
   "metadata": {},
   "outputs": [],
   "source": [
    "snaps = plonk.load_simulation(prefix='binary', directory='h5_part')"
   ]
  },
  {
   "cell_type": "code",
   "execution_count": null,
   "metadata": {},
   "outputs": [],
   "source": [
    "# snaps.snaps\n",
    "times = snaps.properties['time']\n",
    "times\n",
    "\n",
    "snaps.time_series['global']"
   ]
  },
  {
   "cell_type": "code",
   "execution_count": null,
   "metadata": {},
   "outputs": [],
   "source": [
    "snaps.code_units"
   ]
  },
  {
   "cell_type": "code",
   "execution_count": null,
   "metadata": {},
   "outputs": [],
   "source": [
    "units={'position': 'km', 'density': 'g/cm^3', 'velocity': 'km/s'}\n",
    "anim = plonk.visualize.animation_particles(\n",
    "    filename='animation_particles.mp4',\n",
    "    snaps=snaps.snaps,\n",
    "    x='x',\n",
    "    y='y',\n",
    "    units=units,\n",
    "    xlim=(-50, 50),\n",
    "    ylim=(-50, 50),\n",
    "    text=times,\n",
    "    adaptive_limits=False,\n",
    "    save_kwargs={'fps': 24, 'dpi': 600},\n",
    ")"
   ]
  },
  {
   "cell_type": "code",
   "execution_count": null,
   "metadata": {},
   "outputs": [],
   "source": [
    "HTML(anim.to_html5_video())"
   ]
  },
  {
   "cell_type": "code",
   "execution_count": null,
   "metadata": {},
   "outputs": [],
   "source": [
    "snaps.properties"
   ]
  },
  {
   "cell_type": "code",
   "execution_count": null,
   "metadata": {},
   "outputs": [],
   "source": [
    "profiles = list()\n",
    "for snap in snaps.snaps:\n",
    "    profiles.append(plonk.load_profile(snap))"
   ]
  },
  {
   "cell_type": "code",
   "execution_count": null,
   "metadata": {},
   "outputs": [],
   "source": [
    "units={'position': 'km', 'density': 'g/cm^3', 'velocity': 'km/s'}\n",
    "anim = plonk.visualize.animation_profiles(\n",
    "    filename='animation_profiles.mp4',\n",
    "    profiles=profiles,\n",
    "    x='x',\n",
    "    y='gravitational_potential',\n",
    "    units=units,\n",
    "#     xlim=(-50, 50),\n",
    "#     ylim=(-50, 50),\n",
    "    adaptive_limits=False,\n",
    "    save_kwargs={'fps': 24, 'dpi': 600},\n",
    ")"
   ]
  },
  {
   "cell_type": "code",
   "execution_count": null,
   "metadata": {},
   "outputs": [],
   "source": [
    "HTML(anim.to_html5_video())"
   ]
  },
  {
   "cell_type": "markdown",
   "metadata": {},
   "source": [
    "# Ipyvolume"
   ]
  },
  {
   "cell_type": "code",
   "execution_count": null,
   "metadata": {},
   "outputs": [],
   "source": [
    "ts = plonk.load_time_series('binary_inertia.dat')\n",
    "ts"
   ]
  },
  {
   "cell_type": "code",
   "execution_count": null,
   "metadata": {},
   "outputs": [],
   "source": [
    "utime = snaps.code_units['time'].magnitude\n",
    "\n",
    "# Example snap\n",
    "snap = snaps.snaps[70]\n",
    "snap.set_units(time='s', position='km', density='g/cm^3', velocity='km/s')\n",
    "time_snap = snap.properties['time'].magnitude\n",
    "time_snap_utime = time_snap/utime\n",
    "\n",
    "tt = ts.loc[(ts['time'] >= time_snap_utime*0.9999) & (ts['time'] <= time_snap_utime*1.0001)]\n",
    "\n",
    "tt"
   ]
  },
  {
   "cell_type": "code",
   "execution_count": null,
   "metadata": {
    "tags": []
   },
   "outputs": [],
   "source": [
    "fig = ipv.figure(width=600, height=600)\n",
    "\n",
    "stars = [snap['x'].magnitude, snap['y'].magnitude, snap['z'].magnitude]\n",
    "\n",
    "eigenvector = [tt['v1,1'].values, tt['v1,2'].values, tt['v1,3'].values]\n",
    "t = np.linspace(-40, 40, 100)\n",
    "x = t*eigenvector[0]\n",
    "y = t*eigenvector[1]\n",
    "z = t*eigenvector[2]\n",
    "\n",
    "pStars = ipv.scatter(stars[0], stars[1], stars[2], size=0.2, color='#1f77b4')\n",
    "# pStars = ipv.scatter(stars[0], stars[1], snap['gravitational_potential'].magnitude/1e41, size=2., color='#1f77b4')\n",
    "# pStars = ipv.quiver(stars[0], stars[1], stars[2], snap['velocity_x'].magnitude, snap['velocity_y'].magnitude, snap['velocity_z'].magnitude)\n",
    "\n",
    "pLine = ipv.plot(x, y, z, color='black')\n",
    "\n",
    "L1 = [tt['L1,1'].values, tt['L1,2'].values, tt['L1,3'].values]\n",
    "pL1 = ipv.scatter(L1[0], L1[1], L1[2], size=2., marker='sphere', color='red')\n",
    "# pL1 = ipv.scatter(L1[0], L1[1], snap['gravitational_potential'].magnitude/1e41, size=2., marker='sphere', color='red')\n",
    "\n",
    "pCm = ipv.scatter(np.array([0.]), np.array([0.]), np.array([0.]), size=2., marker='sphere', color='orange')\n",
    "\n",
    "ipv.xyzlim(40)\n",
    "# ipv.zlim(0,-5)\n",
    "\n",
    "# ipv.style.axes_off()\n",
    "ipv.show()"
   ]
  },
  {
   "cell_type": "code",
   "execution_count": null,
   "metadata": {},
   "outputs": [],
   "source": [
    "def lineIn3D(array):\n",
    "    l = array.shape[0]\n",
    "    ar = np.identity(l)*array\n",
    "    x_,y_ = np.mgrid[0:l:1, -40:40:0.8]\n",
    "    return np.dot(y_.T,ar).T\n",
    "\n",
    "def pointIn3D(array):\n",
    "    return np.reshape(array, (-1, 1))"
   ]
  },
  {
   "cell_type": "code",
   "execution_count": null,
   "metadata": {},
   "outputs": [],
   "source": [
    "pos = snaps.to_array(quantity='position').to('km').magnitude\n",
    "pos[70,:,:] = snaps.to_array(quantity='position').magnitude[70]\n",
    "# poten = snaps.to_array(quantity='gravitational_potential').magnitude/1e41\n",
    "\n",
    "fig = ipv.figure(width=600, height=600)\n",
    "\n",
    "x = pos[:,:,0]\n",
    "y = pos[:,:,1]\n",
    "z = pos[:,:,2]\n",
    "# z = poten[:,:]\n",
    "pStars = ipv.scatter(x, y, z, size=0.2, color='#1f77b4')\n",
    "\n",
    "x1 = lineIn3D(ts['v1,1'].values)\n",
    "y1 = lineIn3D(ts['v1,2'].values)\n",
    "z1 = lineIn3D(ts['v1,3'].values)\n",
    "\n",
    "pLine = ipv.plot(x1, y1, z1, color='black')\n",
    "\n",
    "x2 = pointIn3D(ts['L1,1'].values)\n",
    "y2 = pointIn3D(ts['L1,2'].values)\n",
    "z2 = pointIn3D(ts['L1,3'].values)\n",
    "\n",
    "# pL1 = ipv.scatter(ts['L1,1'].values, ts['L1,2'].values, ts['L1,3'].values, size=2., marker='sphere', color='red')\n",
    "pL1 = ipv.scatter(x2, y2, z2, size=2., marker='sphere', color='red')\n",
    "\n",
    "pCm = ipv.scatter(np.array([0.]), np.array([0.]), np.array([0.]), size=2., marker='sphere', color='orange')\n",
    "\n",
    "ipv.xyzlim(40)\n",
    "# ipv.zlim(0,-5)\n",
    "ipv.animation_control((pStars,pLine,pL1,pCm)) # shows controls for animation controls\n",
    "# ipv.animation_control(scatter) # shows controls for animation controls\n",
    "\n",
    "ipv.show()"
   ]
  },
  {
   "cell_type": "code",
   "execution_count": null,
   "metadata": {},
   "outputs": [],
   "source": [
    "ipv.view(210, 150, distance=2.3)"
   ]
  },
  {
   "cell_type": "code",
   "execution_count": null,
   "metadata": {},
   "outputs": [],
   "source": [
    "# This is commented out, otherwise it would run on readthedocs\n",
    "def set_view(figure, framenr, fraction):\n",
    "    ipv.view(210, 150, distance=2.3)\n",
    "#     scatter.size = size * (2+0.5*np.sin(fraction * 6 * np.pi))\n",
    "ipv.movie('wave.gif', set_view, fps=20, frames=20*5, gif_loop=True)"
   ]
  },
  {
   "cell_type": "markdown",
   "metadata": {},
   "source": [
    "# Gravitational potential"
   ]
  },
  {
   "cell_type": "code",
   "execution_count": null,
   "metadata": {
    "tags": []
   },
   "outputs": [],
   "source": [
    "pos = snaps.to_array(quantity='position').to('km').magnitude\n",
    "pos[70,:,:] = snaps.to_array(quantity='position').magnitude[70]\n",
    "\n",
    "line = np.array([ts['v1,1'].values, ts['v1,2'].values, ts['v1,3'].values])\n",
    "# line.shape\n",
    "# pos[:,:,:].shape\n",
    "\n",
    "def update_plot(message):\n",
    "#     print(message)\n",
    "    if message['name'] == 'value':\n",
    "        time = slider.value\n",
    "        scat.x = np.dot(line[:,time],pos[time,:,:].T)\n",
    "        scat.y = snaps.snaps[time]['gravitational_potential'].magnitude/1e41\n",
    "\n",
    "noise = 2\n",
    "x_ = np.dot(line[:,0],pos[0,:,:].T)\n",
    "y_ = snaps.snaps[0]['gravitational_potential'].magnitude/1e41\n",
    "\n",
    "figure = bplt.figure(animation_duration=10)\n",
    "#figure.animation_duration = 250\n",
    "scat = bplt.scatter(x_, y_)\n",
    "scat.observe(update_plot, ['x','y'])\n",
    "\n",
    "slider = widgets.IntSlider(description='time', value=0, min=0, max=len(ts)-1)\n",
    "slider.observe(update_plot, 'value')\n",
    "\n",
    "widgets.VBox([slider, figure])"
   ]
  },
  {
   "cell_type": "code",
   "execution_count": null,
   "metadata": {},
   "outputs": [],
   "source": [
    "poten = pd.read_csv('fort.10000', header=None, delim_whitespace=True)\n",
    "\n",
    "# p = poten.loc[poten[0] == 90.0]\n",
    "p = poten\n",
    "# p = p.loc[:,(p.columns != 0) & (p.columns != 5)].T.values\n",
    "p = p.loc[:,(p.columns != 0)].T.values\n",
    "\n",
    "# poten2 = pd.read_csv('fort.10001', header=None, delim_whitespace=True)\n",
    "# p2 = poten2\n",
    "# p2 = p2.loc[:,(p2.columns != 0)].T.values"
   ]
  },
  {
   "cell_type": "code",
   "execution_count": null,
   "metadata": {},
   "outputs": [],
   "source": [
    "fig = plt.figure()\n",
    "\n",
    "# poten\n",
    "plt.scatter(p[4], p[3]/1.4e-7)\n",
    "# plt.plot(p2[3], p2[-1]/2e-2)\n",
    "# plt.scatter(p2[3], p2[4]/1e-3)\n",
    "\n",
    "# force + -poten\n",
    "# plt.scatter(p[4], -p[3]/7.0e-5)\n",
    "# plt.scatter(p2[3], p2[4])\n",
    "# plt.scatter(p2[3], p2[5])\n",
    "# plt.ylim(-1e-2,1e-2)\n",
    "\n",
    "# log10\n",
    "# plt.scatter(p[4], np.log10(-p[3]))\n",
    "# plt.plot(p2[3], np.log10(-p2[-1]))\n",
    "# plt.scatter(p2[3], np.log10(p2[4]))\n",
    "# plt.scatter(p2[3], np.log10(p2[5]))"
   ]
  },
  {
   "cell_type": "markdown",
   "metadata": {},
   "source": [
    "# Angular momentum"
   ]
  },
  {
   "cell_type": "code",
   "execution_count": null,
   "metadata": {},
   "outputs": [],
   "source": [
    "bc = plonk.load_time_series('binary_centres.dat')\n",
    "bc"
   ]
  },
  {
   "cell_type": "code",
   "execution_count": null,
   "metadata": {},
   "outputs": [],
   "source": [
    "# bc.plot('time', ['n L_tot'])\n",
    "\n",
    "bc2 = bc.loc[bc['n L_tot'] != 0]\n",
    "\n",
    "fig = plt.figure()\n",
    "plt.rcParams.update(\n",
    "    {\n",
    "    \"text.usetex\": False,\n",
    "#     \"font.family\": \"serif\",\n",
    "#     \"font.sans-serif\": [\"Computer Modern\"]\n",
    "    }\n",
    ")\n",
    "plt.plot(bc2['time'].values*utime, (bc2['n L_tot'].values-bc2['n L_tot'].values[0]), label=r'L_{tot}(t)-L_tot(t_0)')\n",
    "plt.plot(bc2['time'].values*utime, (bc2['n L_A'].values-bc2['n L_A'].values[0]), label=r'L_1(t)-L_1(t_0)')\n",
    "plt.plot(bc2['time'].values*utime, (bc2['n L_B'].values-bc2['n L_B'].values[0]), label=r'L_2(t)-L_2(t_0)')\n",
    "\n",
    "plt.xlabel('time [s]')\n",
    "\n",
    "plt.legend()"
   ]
  }
 ],
 "metadata": {
  "jupytext": {
   "formats": "ipynb,py:percent"
  },
  "kernelspec": {
   "display_name": "Python 3",
   "language": "python",
   "name": "python3"
  },
  "language_info": {
   "codemirror_mode": {
    "name": "ipython",
    "version": 3
   },
   "file_extension": ".py",
   "mimetype": "text/x-python",
   "name": "python",
   "nbconvert_exporter": "python",
   "pygments_lexer": "ipython3",
   "version": "3.9.4"
  },
  "toc-autonumbering": true,
  "toc-showmarkdowntxt": true,
  "toc-showtags": false
 },
 "nbformat": 4,
 "nbformat_minor": 4
}
